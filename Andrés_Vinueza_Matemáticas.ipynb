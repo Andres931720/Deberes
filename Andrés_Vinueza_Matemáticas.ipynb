{
  "nbformat": 4,
  "nbformat_minor": 0,
  "metadata": {
    "colab": {
      "provenance": [],
      "authorship_tag": "ABX9TyOLdw/57y+eE0hCCJ6oSZKc",
      "include_colab_link": true
    },
    "kernelspec": {
      "name": "python3",
      "display_name": "Python 3"
    },
    "language_info": {
      "name": "python"
    }
  },
  "cells": [
    {
      "cell_type": "markdown",
      "metadata": {
        "id": "view-in-github",
        "colab_type": "text"
      },
      "source": [
        "<a href=\"https://colab.research.google.com/github/Andres931720/Deberes/blob/main/Andr%C3%A9s_Vinueza_Matem%C3%A1ticas.ipynb\" target=\"_parent\"><img src=\"https://colab.research.google.com/assets/colab-badge.svg\" alt=\"Open In Colab\"/></a>"
      ]
    },
    {
      "cell_type": "markdown",
      "source": [
        "## Tarea Matemáticas para la Inteligencia Artificial\n",
        "\n",
        "Andrés Vinueza"
      ],
      "metadata": {
        "id": "eMd_oidwySED"
      }
    },
    {
      "cell_type": "markdown",
      "source": [
        "# **Ejercicio 1**\n",
        "\n",
        "1. Tal y como ya hemos visto en clase, la variedad de herramientas proporcionadas por el\n",
        "´algebra lineal son cruciales para desarrollar y fundamentar las bases de una variedad de\n",
        "t´ecnicas relacionadas con el aprendizaje autom´atico. Con ella, podemos describir el proceso\n",
        "de propagaci´on hacia adelante en una red neuronal, identificar m´ınimos locales en funciones\n",
        "multivariables (crucial para el proceso de retropropagaci´on) o la descripci´on y empleo de\n",
        "m´etodos de reducci´on de la dimensionalidad, como el an´alisis de componentes principales\n",
        "(PCA), entre muchas otras aplicaciones.\n",
        "Cuando trabajamos en la pr´actica dentro de este ´ambito, la cantidad de datos que manejamos\n",
        "puede ser muy grande, por lo que es especialmente importante emplear algoritmos eficientes\n",
        "y optimizados para reducir el coste computacional en la medida de lo posible. Por todo ello,\n",
        "el objetivo de este ejercicio es el de ilustrar las diferentes alternativas que pueden existir\n",
        "para realizar un proceso relacionado con el ´algebra lineal y el impacto que puede tener cada\n",
        "variante en t´erminos del coste computacional del mismo. En este caso en particular, y a modo\n",
        "de ilustraci´on, nos centraremos en el c´alculo del determinante de una matriz.\n"
      ],
      "metadata": {
        "id": "7CGtaRBbeWT8"
      }
    },
    {
      "cell_type": "markdown",
      "source": [
        "a) [1 punto] Implementa una función, determinante recursivo, que obtenga el determinante de una matriz cuadrada utilizando la definici´on recursiva de Laplace.\n"
      ],
      "metadata": {
        "id": "KI7dVXmgedMS"
      }
    },
    {
      "cell_type": "code",
      "execution_count": 1,
      "metadata": {
        "id": "YNmmqngYeNLw"
      },
      "outputs": [],
      "source": [
        "def determinante_recursivo(m):\n",
        "    n = len(m)\n",
        "\n",
        "    if n == 1:\n",
        "        return m[0][0]\n",
        "\n",
        "    if n == 2:\n",
        "        return m[0][0]*m[1][1] - m[0][1]*m[1][0]\n",
        "\n",
        "    resultado = 0\n",
        "    for i in range(n):\n",
        "        # sacar la submatriz sin la fila 0 y la columna i\n",
        "        sub = []\n",
        "        for f in m[1:]:\n",
        "            nueva = f[:i] + f[i+1:]\n",
        "            sub.append(nueva)\n",
        "\n",
        "        signo = (-1) ** i\n",
        "        resultado += signo * m[0][i] * determinante_recursivo(sub)\n",
        "\n",
        "    return resultado\n"
      ]
    },
    {
      "cell_type": "code",
      "source": [
        "matriz = [\n",
        "    [2, 5, 3],\n",
        "    [1, -2, -1],\n",
        "    [1, 3, 4]\n",
        "]\n",
        "\n",
        "print(\"Determinante:\", determinante_recursivo(matriz))"
      ],
      "metadata": {
        "colab": {
          "base_uri": "https://localhost:8080/"
        },
        "id": "eKO-GfaSI-I0",
        "outputId": "65ec9f4b-b49b-4f06-c6ef-dedcfde95d1a"
      },
      "execution_count": 2,
      "outputs": [
        {
          "output_type": "stream",
          "name": "stdout",
          "text": [
            "Determinante: -20\n"
          ]
        }
      ]
    },
    {
      "cell_type": "code",
      "source": [
        "import numpy as np\n",
        "\n",
        "def determinante_recursivo_np(m):\n",
        "    m = np.array(m, dtype=float)  # Asegura que sea array NumPy con decimales\n",
        "    n = m.shape[0]\n",
        "\n",
        "    if n == 1:\n",
        "        return m[0, 0]\n",
        "\n",
        "    if n == 2:\n",
        "        return m[0, 0]*m[1, 1] - m[0, 1]*m[1, 0]\n",
        "\n",
        "    res = 0\n",
        "    for i in range(n):\n",
        "        # sacar submatriz sin fila 0 y columna i\n",
        "        sub = np.delete(m[1:], i, axis=1)\n",
        "        signo = (-1) ** i\n",
        "        res += signo * m[0, i] * determinante_recursivo_np(sub)\n",
        "\n",
        "    return res\n",
        "\n",
        "A = np.array([\n",
        "    [2, 1, -1],\n",
        "    [-3, -1, 2],\n",
        "    [-2, 1, 2]\n",
        "])\n",
        "\n",
        "print(\"Determinante:\", determinante_recursivo_np(A))"
      ],
      "metadata": {
        "colab": {
          "base_uri": "https://localhost:8080/"
        },
        "id": "CWx9TPy4vUKe",
        "outputId": "c799d48a-c049-4835-8b7a-180d5cc93d18"
      },
      "execution_count": 1,
      "outputs": [
        {
          "output_type": "stream",
          "name": "stdout",
          "text": [
            "Determinante: -1.0\n"
          ]
        }
      ]
    },
    {
      "cell_type": "markdown",
      "source": [
        "b) [0.5 puntos] Si A es una matriz cuadrada n×n y triangular (superior o inferior, es decir,\n",
        "con entradas nulas por debajo o por encima de la diagonal, respectivamente), ¿existe\n",
        "alguna forma de calcular de forma directa y sencilla su determinante? Justif´ıquese la\n",
        "respuesta."
      ],
      "metadata": {
        "id": "fLS2P4c7JL75"
      }
    },
    {
      "cell_type": "markdown",
      "source": [
        "Se puede calcular al multiplicar los valores de la diagonal\n"
      ],
      "metadata": {
        "id": "zd05_DiYJmgw"
      }
    },
    {
      "cell_type": "code",
      "source": [
        "def determinante_triangular(m):\n",
        "    n = len(m)\n",
        "    det = 1\n",
        "    for i in range(n):\n",
        "        det *= m[i][i]\n",
        "    return det\n"
      ],
      "metadata": {
        "id": "EOT95CriJlS8"
      },
      "execution_count": 6,
      "outputs": []
    },
    {
      "cell_type": "code",
      "source": [
        "A = [\n",
        "    [3, 2, 5],\n",
        "    [0, 4, 1],\n",
        "    [0, 0, 6]\n",
        "]\n",
        "\n",
        "print(\"Determinante:\", determinante_triangular(A))"
      ],
      "metadata": {
        "colab": {
          "base_uri": "https://localhost:8080/"
        },
        "id": "Bg5jvpqgJDry",
        "outputId": "02a67b07-64be-45b0-a24c-cd7ec8e5b423"
      },
      "execution_count": 7,
      "outputs": [
        {
          "output_type": "stream",
          "name": "stdout",
          "text": [
            "Determinante: 72\n"
          ]
        }
      ]
    },
    {
      "cell_type": "code",
      "source": [
        "import numpy as np\n",
        "\n",
        "def determinante_triangular_np(m):\n",
        "    m = np.array(m, dtype=float)  # asegura que sea un array NumPy\n",
        "    n = m.shape[0]\n",
        "    det = 1\n",
        "    for i in range(n):\n",
        "        det *= m[i, i]\n",
        "    return det\n"
      ],
      "metadata": {
        "id": "P5fu7KKXv3_b"
      },
      "execution_count": 2,
      "outputs": []
    },
    {
      "cell_type": "code",
      "source": [
        "A = np.array([\n",
        "    [2, 3, 1],\n",
        "    [0, 4, 5],\n",
        "    [0, 0, -2]\n",
        "])\n",
        "\n",
        "print(\"Determinante:\", determinante_triangular_np(A))  # Resultado esperado: -16\n"
      ],
      "metadata": {
        "colab": {
          "base_uri": "https://localhost:8080/"
        },
        "id": "9OpZTUkBv4y8",
        "outputId": "bf73e3ad-a2a3-4e5a-9bd1-21c10fe736a2"
      },
      "execution_count": 3,
      "outputs": [
        {
          "output_type": "stream",
          "name": "stdout",
          "text": [
            "Determinante: -16.0\n"
          ]
        }
      ]
    },
    {
      "cell_type": "markdown",
      "source": [
        "Sea $ A \\in \\mathbb{R}^{n \\times n}$ una matriz **triangular superior** tal que:\n",
        "\n",
        "$$\n",
        "A =\n",
        "\\begin{bmatrix}\n",
        "a_{11} & a_{12} & \\cdots & a_{1n} \\\\\n",
        "0      & a_{22} & \\cdots & a_{2n} \\\\\n",
        "\\vdots & \\vdots & \\ddots & \\vdots \\\\\n",
        "0      & 0      & \\cdots & a_{nn}\n",
        "\\end{bmatrix}\n",
        "$$\n",
        "\n",
        "Para $ n = 1 $, se puede deducir fácilmente que $\\det(A) = a_{11} $.\n",
        "\n",
        "Demostrando por inducción supongamos que el determinante de toda matriz triangular superior de tamaño $ (n-1) \\times (n-1)$ es el producto de sus elementos diagonales.\n",
        "\n",
        "Sea $ A $ una matriz triangular superior de tamaño $ n \\times n$. Usamos la expansión de Laplace por la primera fila:\n",
        "\n",
        "$$\n",
        "\\det(A) = a_{11} \\cdot \\det(A')\n",
        "$$\n",
        "\n",
        "donde $ A'$ es la submatriz obtenida al eliminar la primera fila y columna (también triangular superior).\n",
        "\n",
        "Por hipótesis inductiva:\n",
        "\n",
        "$$\n",
        "\\det(A') = a_{22} \\cdot a_{33} \\cdots a_{nn}\n",
        "$$\n",
        "\n",
        "Entonces:\n",
        "\n",
        "$$\n",
        "\\det(A) = a_{11} \\cdot a_{22} \\cdot \\dots \\cdot a_{nn}\n",
        "$$\n",
        "\n",
        "\n"
      ],
      "metadata": {
        "id": "5SRHFrlaLSA1"
      }
    },
    {
      "cell_type": "markdown",
      "source": [
        "c) [0.5 puntos] Determínese de forma justificada cómo alteran el determinante de una\n",
        "matriz n × n las dos operaciones elementales siguientes:\n",
        "Intercambiar una fila (o columna) por otra fila (o columna).\n",
        "Sumar a una fila (o columna) otra fila (o columna) multiplicada por un escalar α."
      ],
      "metadata": {
        "id": "lD29fyz0MOGK"
      }
    },
    {
      "cell_type": "markdown",
      "source": [
        "\n",
        "Por la forma del cálculo del determinante cada columna o fila esta asociada a un signo, entonces al intercambiar el determinante cambia de signo. Entonces sea $A$ una matriz n x n y $B$ la mtriz modificada tenemos:\n",
        "\n",
        "$$det(A) = - det(B) $$\n",
        "\n",
        "\n",
        "Si operamos dos columnas y multiplicamos un valor $alpha$  el determinante no se ve afectado. Podemos tomar el teorema de las operaciones elementales sobre matrices que nos permite justificarlo. De hecho cuando hacemos la reducción de una matriz por el método de Gauss realizamos estas operaciones\n",
        "\n"
      ],
      "metadata": {
        "id": "91AK98WMMfAg"
      }
    },
    {
      "cell_type": "markdown",
      "source": [
        "d) [1 punto] Investiga sobre el método de eliminación de Gauss con pivoteo parcial e\n",
        "impleméntalo para escalonar una matriz (es decir, convertirla en una matriz triangular\n",
        "inferior) a partir de las operaciones elementales descritas en el apartado anterior."
      ],
      "metadata": {
        "id": "XOfe6xw9RqtY"
      }
    },
    {
      "cell_type": "code",
      "source": [
        "import numpy as np\n",
        "\n",
        "def escalonar_matriz(m):\n",
        "    m = m.astype(float)  # trabajar con decimales\n",
        "    n = len(m)\n",
        "\n",
        "    for i in range(n):\n",
        "        # buscar la fila con el número más grande en la columna i\n",
        "        max_pos = i\n",
        "        for k in range(i + 1, n):\n",
        "            if abs(m[k][i]) > abs(m[max_pos][i]):\n",
        "                max_pos = k\n",
        "\n",
        "        # si hace falta, intercambiar filas\n",
        "        if max_pos != i:\n",
        "            m[i], m[max_pos] = m[max_pos].copy(), m[i].copy()\n",
        "\n",
        "        # hacer ceros debajo del pivote\n",
        "        for j in range(i + 1, n):\n",
        "            if m[i][i] == 0:\n",
        "                continue  # evitar división por cero\n",
        "            mult = m[j][i] / m[i][i]\n",
        "            for k in range(i, n):\n",
        "                m[j][k] = m[j][k] - mult * m[i][k]\n",
        "\n",
        "    return m\n",
        "\n"
      ],
      "metadata": {
        "id": "YXpKzKIHJKBW"
      },
      "execution_count": 10,
      "outputs": []
    },
    {
      "cell_type": "code",
      "source": [
        "A = np.array([\n",
        "    [2, 1, -1],\n",
        "    [-3, -1, 2],\n",
        "    [-2, 1, 2]\n",
        "])\n",
        "\n",
        "sol = escalonar_matriz(A)\n",
        "print(np.round(sol, 3))\n"
      ],
      "metadata": {
        "colab": {
          "base_uri": "https://localhost:8080/"
        },
        "id": "YthxoajLMLkJ",
        "outputId": "bd934734-ebfc-4edd-c323-4b3b242f718b"
      },
      "execution_count": 11,
      "outputs": [
        {
          "output_type": "stream",
          "name": "stdout",
          "text": [
            "[[-3.    -1.     2.   ]\n",
            " [ 0.     1.667  0.667]\n",
            " [ 0.     0.     0.2  ]]\n"
          ]
        }
      ]
    },
    {
      "cell_type": "markdown",
      "source": [
        "e) [0.5 puntos] ¿Cómo se podría calcular el determinante de una matriz haciendo beneficio\n",
        "de la estrategia anterior y del efecto de aplicar las operaciones elementales pertinentes?\n",
        "Implementa una nueva función, determinante gauss, que calcule el determinante de\n",
        "una matriz utilizando eliminación gaussiana.\n"
      ],
      "metadata": {
        "id": "CYQFO_ZISc7W"
      }
    },
    {
      "cell_type": "code",
      "source": [
        "def determinante_gauss(A):\n",
        "  A = A.copy()\n",
        "  B =  escalonar_matriz(A)\n",
        "  return(determinante_triangular_np(B))"
      ],
      "metadata": {
        "id": "uzuJZrJBSZ6f"
      },
      "execution_count": 14,
      "outputs": []
    },
    {
      "cell_type": "code",
      "source": [
        "A = np.array([\n",
        "    [2, 1, -1],\n",
        "    [-3, -1, 2],\n",
        "    [-2, 1, 2]\n",
        "])\n",
        "determinante_gauss(A)"
      ],
      "metadata": {
        "colab": {
          "base_uri": "https://localhost:8080/"
        },
        "id": "3rWvETQRS2va",
        "outputId": "eb99f516-e528-4406-d0ea-2df211a7364a"
      },
      "execution_count": 15,
      "outputs": [
        {
          "output_type": "execute_result",
          "data": {
            "text/plain": [
              "np.float64(-0.9999999999999993)"
            ]
          },
          "metadata": {},
          "execution_count": 15
        }
      ]
    },
    {
      "cell_type": "markdown",
      "source": [
        "f ) [0.5 puntos] Obt´en la complejidad computacional asociada al c´alculo del determinante\n",
        "con la definici´on recursiva y con el m´etodo de eliminaci´on de Gauss con pivoteo parcial."
      ],
      "metadata": {
        "id": "IdfAaAyBTBi0"
      }
    },
    {
      "cell_type": "markdown",
      "source": [
        "Para el método recursivo tenemos:\n",
        "\n",
        "\n",
        "\\begin{align}\n",
        "O(n) &= nO(n-1)\\\\\n",
        "     &=...\\\\\n",
        "     & = n!\n",
        "\\end{align}\n",
        "\n",
        "Considerando el método de Gauss\n",
        "\n",
        "En cada paso $i$, se hacen ceros debajo del pivote $A[i][i]$ en $n - i - 1$ filas, y en cada una se actualizan $n - i$ entradas.\n",
        "\n",
        "Entonces, el número total de operaciones es:\n",
        "\n",
        "$$\n",
        "\\sum_{i=1}^{n-1} (n - i)(n - i + 1)\n",
        "$$\n",
        "\n",
        "Esto crece cúbicamente con  $n$, y por lo tanto la complejidad es:\n",
        "\n",
        "$$\n",
        "\\mathcal{O}(n^3)\n",
        "$$\n"
      ],
      "metadata": {
        "id": "C0e43Xn4TVod"
      }
    },
    {
      "cell_type": "markdown",
      "source": [
        "g) [1 punto] Utilizando numpy.random.rand, genera matrices cuadradas aleatorias de la\n",
        "forma An ∈ Rn×n, para 2 ≤ n ≤ 10, y confecciona una tabla comparativa del tiempo de ejecución asociado a cada una de las variantes siguientes, interpretando los resultados:\n",
        "\n",
        "- Utilizando determinante recursivo.\n",
        "\n",
        "- Empleando determinante gauss.\n",
        "\n",
        "- Haciendo uso de la funci´on preprogramada numpy.linalg.det.\n"
      ],
      "metadata": {
        "id": "-RJHeJ5QusWe"
      }
    },
    {
      "cell_type": "code",
      "source": [
        "import pandas as pd\n",
        "import time\n",
        "resultados = []\n",
        "\n",
        "for n in range(2, 11):\n",
        "    A = np.random.rand(n, n)\n",
        "\n",
        "    # Método recursivo\n",
        "    start = time.time()\n",
        "    determinante_recursivo_np(A)\n",
        "    t_rec = time.time() - start\n",
        "\n",
        "    # Método de Gauss\n",
        "    start = time.time()\n",
        "    determinante_gauss(A)\n",
        "    t_gauss = time.time() - start\n",
        "\n",
        "    # Función numpy\n",
        "    start = time.time()\n",
        "    np.linalg.det(A)\n",
        "    t_numpy = time.time() - start\n",
        "\n",
        "    resultados.append({\n",
        "        \"n\": n,\n",
        "        \"Recursivo (s)\": t_rec,\n",
        "        \"Gauss (s)\": t_gauss,\n",
        "        \"Numpy (s)\": t_numpy\n",
        "    })\n",
        "\n",
        "# Convertir a DataFrame\n",
        "df_resultados = pd.DataFrame(resultados)\n"
      ],
      "metadata": {
        "id": "ylsavRdwS78n"
      },
      "execution_count": 16,
      "outputs": []
    },
    {
      "cell_type": "code",
      "source": [
        "df_resultados"
      ],
      "metadata": {
        "colab": {
          "base_uri": "https://localhost:8080/",
          "height": 331
        },
        "id": "xdmGYCU0wrf0",
        "outputId": "105fb591-26e6-4136-8021-29739bb0f5ed"
      },
      "execution_count": 17,
      "outputs": [
        {
          "output_type": "execute_result",
          "data": {
            "text/plain": [
              "    n  Recursivo (s)  Gauss (s)  Numpy (s)\n",
              "0   2       0.000027   0.000039   0.000129\n",
              "1   3       0.000090   0.000058   0.000040\n",
              "2   4       0.000240   0.000075   0.000054\n",
              "3   5       0.000958   0.000154   0.000042\n",
              "4   6       0.006669   0.000221   0.000103\n",
              "5   7       0.029342   0.000172   0.000062\n",
              "6   8       0.187885   0.000247   0.000065\n",
              "7   9       1.689703   0.000350   0.000064\n",
              "8  10      19.331177   0.000423   0.000062"
            ],
            "text/html": [
              "\n",
              "  <div id=\"df-e5a8e6b6-22e4-429e-ae67-f725aee6fc96\" class=\"colab-df-container\">\n",
              "    <div>\n",
              "<style scoped>\n",
              "    .dataframe tbody tr th:only-of-type {\n",
              "        vertical-align: middle;\n",
              "    }\n",
              "\n",
              "    .dataframe tbody tr th {\n",
              "        vertical-align: top;\n",
              "    }\n",
              "\n",
              "    .dataframe thead th {\n",
              "        text-align: right;\n",
              "    }\n",
              "</style>\n",
              "<table border=\"1\" class=\"dataframe\">\n",
              "  <thead>\n",
              "    <tr style=\"text-align: right;\">\n",
              "      <th></th>\n",
              "      <th>n</th>\n",
              "      <th>Recursivo (s)</th>\n",
              "      <th>Gauss (s)</th>\n",
              "      <th>Numpy (s)</th>\n",
              "    </tr>\n",
              "  </thead>\n",
              "  <tbody>\n",
              "    <tr>\n",
              "      <th>0</th>\n",
              "      <td>2</td>\n",
              "      <td>0.000027</td>\n",
              "      <td>0.000039</td>\n",
              "      <td>0.000129</td>\n",
              "    </tr>\n",
              "    <tr>\n",
              "      <th>1</th>\n",
              "      <td>3</td>\n",
              "      <td>0.000090</td>\n",
              "      <td>0.000058</td>\n",
              "      <td>0.000040</td>\n",
              "    </tr>\n",
              "    <tr>\n",
              "      <th>2</th>\n",
              "      <td>4</td>\n",
              "      <td>0.000240</td>\n",
              "      <td>0.000075</td>\n",
              "      <td>0.000054</td>\n",
              "    </tr>\n",
              "    <tr>\n",
              "      <th>3</th>\n",
              "      <td>5</td>\n",
              "      <td>0.000958</td>\n",
              "      <td>0.000154</td>\n",
              "      <td>0.000042</td>\n",
              "    </tr>\n",
              "    <tr>\n",
              "      <th>4</th>\n",
              "      <td>6</td>\n",
              "      <td>0.006669</td>\n",
              "      <td>0.000221</td>\n",
              "      <td>0.000103</td>\n",
              "    </tr>\n",
              "    <tr>\n",
              "      <th>5</th>\n",
              "      <td>7</td>\n",
              "      <td>0.029342</td>\n",
              "      <td>0.000172</td>\n",
              "      <td>0.000062</td>\n",
              "    </tr>\n",
              "    <tr>\n",
              "      <th>6</th>\n",
              "      <td>8</td>\n",
              "      <td>0.187885</td>\n",
              "      <td>0.000247</td>\n",
              "      <td>0.000065</td>\n",
              "    </tr>\n",
              "    <tr>\n",
              "      <th>7</th>\n",
              "      <td>9</td>\n",
              "      <td>1.689703</td>\n",
              "      <td>0.000350</td>\n",
              "      <td>0.000064</td>\n",
              "    </tr>\n",
              "    <tr>\n",
              "      <th>8</th>\n",
              "      <td>10</td>\n",
              "      <td>19.331177</td>\n",
              "      <td>0.000423</td>\n",
              "      <td>0.000062</td>\n",
              "    </tr>\n",
              "  </tbody>\n",
              "</table>\n",
              "</div>\n",
              "    <div class=\"colab-df-buttons\">\n",
              "\n",
              "  <div class=\"colab-df-container\">\n",
              "    <button class=\"colab-df-convert\" onclick=\"convertToInteractive('df-e5a8e6b6-22e4-429e-ae67-f725aee6fc96')\"\n",
              "            title=\"Convert this dataframe to an interactive table.\"\n",
              "            style=\"display:none;\">\n",
              "\n",
              "  <svg xmlns=\"http://www.w3.org/2000/svg\" height=\"24px\" viewBox=\"0 -960 960 960\">\n",
              "    <path d=\"M120-120v-720h720v720H120Zm60-500h600v-160H180v160Zm220 220h160v-160H400v160Zm0 220h160v-160H400v160ZM180-400h160v-160H180v160Zm440 0h160v-160H620v160ZM180-180h160v-160H180v160Zm440 0h160v-160H620v160Z\"/>\n",
              "  </svg>\n",
              "    </button>\n",
              "\n",
              "  <style>\n",
              "    .colab-df-container {\n",
              "      display:flex;\n",
              "      gap: 12px;\n",
              "    }\n",
              "\n",
              "    .colab-df-convert {\n",
              "      background-color: #E8F0FE;\n",
              "      border: none;\n",
              "      border-radius: 50%;\n",
              "      cursor: pointer;\n",
              "      display: none;\n",
              "      fill: #1967D2;\n",
              "      height: 32px;\n",
              "      padding: 0 0 0 0;\n",
              "      width: 32px;\n",
              "    }\n",
              "\n",
              "    .colab-df-convert:hover {\n",
              "      background-color: #E2EBFA;\n",
              "      box-shadow: 0px 1px 2px rgba(60, 64, 67, 0.3), 0px 1px 3px 1px rgba(60, 64, 67, 0.15);\n",
              "      fill: #174EA6;\n",
              "    }\n",
              "\n",
              "    .colab-df-buttons div {\n",
              "      margin-bottom: 4px;\n",
              "    }\n",
              "\n",
              "    [theme=dark] .colab-df-convert {\n",
              "      background-color: #3B4455;\n",
              "      fill: #D2E3FC;\n",
              "    }\n",
              "\n",
              "    [theme=dark] .colab-df-convert:hover {\n",
              "      background-color: #434B5C;\n",
              "      box-shadow: 0px 1px 3px 1px rgba(0, 0, 0, 0.15);\n",
              "      filter: drop-shadow(0px 1px 2px rgba(0, 0, 0, 0.3));\n",
              "      fill: #FFFFFF;\n",
              "    }\n",
              "  </style>\n",
              "\n",
              "    <script>\n",
              "      const buttonEl =\n",
              "        document.querySelector('#df-e5a8e6b6-22e4-429e-ae67-f725aee6fc96 button.colab-df-convert');\n",
              "      buttonEl.style.display =\n",
              "        google.colab.kernel.accessAllowed ? 'block' : 'none';\n",
              "\n",
              "      async function convertToInteractive(key) {\n",
              "        const element = document.querySelector('#df-e5a8e6b6-22e4-429e-ae67-f725aee6fc96');\n",
              "        const dataTable =\n",
              "          await google.colab.kernel.invokeFunction('convertToInteractive',\n",
              "                                                    [key], {});\n",
              "        if (!dataTable) return;\n",
              "\n",
              "        const docLinkHtml = 'Like what you see? Visit the ' +\n",
              "          '<a target=\"_blank\" href=https://colab.research.google.com/notebooks/data_table.ipynb>data table notebook</a>'\n",
              "          + ' to learn more about interactive tables.';\n",
              "        element.innerHTML = '';\n",
              "        dataTable['output_type'] = 'display_data';\n",
              "        await google.colab.output.renderOutput(dataTable, element);\n",
              "        const docLink = document.createElement('div');\n",
              "        docLink.innerHTML = docLinkHtml;\n",
              "        element.appendChild(docLink);\n",
              "      }\n",
              "    </script>\n",
              "  </div>\n",
              "\n",
              "\n",
              "    <div id=\"df-fa12b1e6-9e8f-43c5-8fe2-a9c5dc287e10\">\n",
              "      <button class=\"colab-df-quickchart\" onclick=\"quickchart('df-fa12b1e6-9e8f-43c5-8fe2-a9c5dc287e10')\"\n",
              "                title=\"Suggest charts\"\n",
              "                style=\"display:none;\">\n",
              "\n",
              "<svg xmlns=\"http://www.w3.org/2000/svg\" height=\"24px\"viewBox=\"0 0 24 24\"\n",
              "     width=\"24px\">\n",
              "    <g>\n",
              "        <path d=\"M19 3H5c-1.1 0-2 .9-2 2v14c0 1.1.9 2 2 2h14c1.1 0 2-.9 2-2V5c0-1.1-.9-2-2-2zM9 17H7v-7h2v7zm4 0h-2V7h2v10zm4 0h-2v-4h2v4z\"/>\n",
              "    </g>\n",
              "</svg>\n",
              "      </button>\n",
              "\n",
              "<style>\n",
              "  .colab-df-quickchart {\n",
              "      --bg-color: #E8F0FE;\n",
              "      --fill-color: #1967D2;\n",
              "      --hover-bg-color: #E2EBFA;\n",
              "      --hover-fill-color: #174EA6;\n",
              "      --disabled-fill-color: #AAA;\n",
              "      --disabled-bg-color: #DDD;\n",
              "  }\n",
              "\n",
              "  [theme=dark] .colab-df-quickchart {\n",
              "      --bg-color: #3B4455;\n",
              "      --fill-color: #D2E3FC;\n",
              "      --hover-bg-color: #434B5C;\n",
              "      --hover-fill-color: #FFFFFF;\n",
              "      --disabled-bg-color: #3B4455;\n",
              "      --disabled-fill-color: #666;\n",
              "  }\n",
              "\n",
              "  .colab-df-quickchart {\n",
              "    background-color: var(--bg-color);\n",
              "    border: none;\n",
              "    border-radius: 50%;\n",
              "    cursor: pointer;\n",
              "    display: none;\n",
              "    fill: var(--fill-color);\n",
              "    height: 32px;\n",
              "    padding: 0;\n",
              "    width: 32px;\n",
              "  }\n",
              "\n",
              "  .colab-df-quickchart:hover {\n",
              "    background-color: var(--hover-bg-color);\n",
              "    box-shadow: 0 1px 2px rgba(60, 64, 67, 0.3), 0 1px 3px 1px rgba(60, 64, 67, 0.15);\n",
              "    fill: var(--button-hover-fill-color);\n",
              "  }\n",
              "\n",
              "  .colab-df-quickchart-complete:disabled,\n",
              "  .colab-df-quickchart-complete:disabled:hover {\n",
              "    background-color: var(--disabled-bg-color);\n",
              "    fill: var(--disabled-fill-color);\n",
              "    box-shadow: none;\n",
              "  }\n",
              "\n",
              "  .colab-df-spinner {\n",
              "    border: 2px solid var(--fill-color);\n",
              "    border-color: transparent;\n",
              "    border-bottom-color: var(--fill-color);\n",
              "    animation:\n",
              "      spin 1s steps(1) infinite;\n",
              "  }\n",
              "\n",
              "  @keyframes spin {\n",
              "    0% {\n",
              "      border-color: transparent;\n",
              "      border-bottom-color: var(--fill-color);\n",
              "      border-left-color: var(--fill-color);\n",
              "    }\n",
              "    20% {\n",
              "      border-color: transparent;\n",
              "      border-left-color: var(--fill-color);\n",
              "      border-top-color: var(--fill-color);\n",
              "    }\n",
              "    30% {\n",
              "      border-color: transparent;\n",
              "      border-left-color: var(--fill-color);\n",
              "      border-top-color: var(--fill-color);\n",
              "      border-right-color: var(--fill-color);\n",
              "    }\n",
              "    40% {\n",
              "      border-color: transparent;\n",
              "      border-right-color: var(--fill-color);\n",
              "      border-top-color: var(--fill-color);\n",
              "    }\n",
              "    60% {\n",
              "      border-color: transparent;\n",
              "      border-right-color: var(--fill-color);\n",
              "    }\n",
              "    80% {\n",
              "      border-color: transparent;\n",
              "      border-right-color: var(--fill-color);\n",
              "      border-bottom-color: var(--fill-color);\n",
              "    }\n",
              "    90% {\n",
              "      border-color: transparent;\n",
              "      border-bottom-color: var(--fill-color);\n",
              "    }\n",
              "  }\n",
              "</style>\n",
              "\n",
              "      <script>\n",
              "        async function quickchart(key) {\n",
              "          const quickchartButtonEl =\n",
              "            document.querySelector('#' + key + ' button');\n",
              "          quickchartButtonEl.disabled = true;  // To prevent multiple clicks.\n",
              "          quickchartButtonEl.classList.add('colab-df-spinner');\n",
              "          try {\n",
              "            const charts = await google.colab.kernel.invokeFunction(\n",
              "                'suggestCharts', [key], {});\n",
              "          } catch (error) {\n",
              "            console.error('Error during call to suggestCharts:', error);\n",
              "          }\n",
              "          quickchartButtonEl.classList.remove('colab-df-spinner');\n",
              "          quickchartButtonEl.classList.add('colab-df-quickchart-complete');\n",
              "        }\n",
              "        (() => {\n",
              "          let quickchartButtonEl =\n",
              "            document.querySelector('#df-fa12b1e6-9e8f-43c5-8fe2-a9c5dc287e10 button');\n",
              "          quickchartButtonEl.style.display =\n",
              "            google.colab.kernel.accessAllowed ? 'block' : 'none';\n",
              "        })();\n",
              "      </script>\n",
              "    </div>\n",
              "\n",
              "  <div id=\"id_87d2af1a-531a-4bab-ac3d-a8cee7c26bda\">\n",
              "    <style>\n",
              "      .colab-df-generate {\n",
              "        background-color: #E8F0FE;\n",
              "        border: none;\n",
              "        border-radius: 50%;\n",
              "        cursor: pointer;\n",
              "        display: none;\n",
              "        fill: #1967D2;\n",
              "        height: 32px;\n",
              "        padding: 0 0 0 0;\n",
              "        width: 32px;\n",
              "      }\n",
              "\n",
              "      .colab-df-generate:hover {\n",
              "        background-color: #E2EBFA;\n",
              "        box-shadow: 0px 1px 2px rgba(60, 64, 67, 0.3), 0px 1px 3px 1px rgba(60, 64, 67, 0.15);\n",
              "        fill: #174EA6;\n",
              "      }\n",
              "\n",
              "      [theme=dark] .colab-df-generate {\n",
              "        background-color: #3B4455;\n",
              "        fill: #D2E3FC;\n",
              "      }\n",
              "\n",
              "      [theme=dark] .colab-df-generate:hover {\n",
              "        background-color: #434B5C;\n",
              "        box-shadow: 0px 1px 3px 1px rgba(0, 0, 0, 0.15);\n",
              "        filter: drop-shadow(0px 1px 2px rgba(0, 0, 0, 0.3));\n",
              "        fill: #FFFFFF;\n",
              "      }\n",
              "    </style>\n",
              "    <button class=\"colab-df-generate\" onclick=\"generateWithVariable('df_resultados')\"\n",
              "            title=\"Generate code using this dataframe.\"\n",
              "            style=\"display:none;\">\n",
              "\n",
              "  <svg xmlns=\"http://www.w3.org/2000/svg\" height=\"24px\"viewBox=\"0 0 24 24\"\n",
              "       width=\"24px\">\n",
              "    <path d=\"M7,19H8.4L18.45,9,17,7.55,7,17.6ZM5,21V16.75L18.45,3.32a2,2,0,0,1,2.83,0l1.4,1.43a1.91,1.91,0,0,1,.58,1.4,1.91,1.91,0,0,1-.58,1.4L9.25,21ZM18.45,9,17,7.55Zm-12,3A5.31,5.31,0,0,0,4.9,8.1,5.31,5.31,0,0,0,1,6.5,5.31,5.31,0,0,0,4.9,4.9,5.31,5.31,0,0,0,6.5,1,5.31,5.31,0,0,0,8.1,4.9,5.31,5.31,0,0,0,12,6.5,5.46,5.46,0,0,0,6.5,12Z\"/>\n",
              "  </svg>\n",
              "    </button>\n",
              "    <script>\n",
              "      (() => {\n",
              "      const buttonEl =\n",
              "        document.querySelector('#id_87d2af1a-531a-4bab-ac3d-a8cee7c26bda button.colab-df-generate');\n",
              "      buttonEl.style.display =\n",
              "        google.colab.kernel.accessAllowed ? 'block' : 'none';\n",
              "\n",
              "      buttonEl.onclick = () => {\n",
              "        google.colab.notebook.generateWithVariable('df_resultados');\n",
              "      }\n",
              "      })();\n",
              "    </script>\n",
              "  </div>\n",
              "\n",
              "    </div>\n",
              "  </div>\n"
            ],
            "application/vnd.google.colaboratory.intrinsic+json": {
              "type": "dataframe",
              "variable_name": "df_resultados",
              "summary": "{\n  \"name\": \"df_resultados\",\n  \"rows\": 9,\n  \"fields\": [\n    {\n      \"column\": \"n\",\n      \"properties\": {\n        \"dtype\": \"number\",\n        \"std\": 2,\n        \"min\": 2,\n        \"max\": 10,\n        \"num_unique_values\": 9,\n        \"samples\": [\n          9,\n          3,\n          7\n        ],\n        \"semantic_type\": \"\",\n        \"description\": \"\"\n      }\n    },\n    {\n      \"column\": \"Recursivo (s)\",\n      \"properties\": {\n        \"dtype\": \"number\",\n        \"std\": 6.3877868383391005,\n        \"min\": 2.7418136596679688e-05,\n        \"max\": 19.331177473068237,\n        \"num_unique_values\": 9,\n        \"samples\": [\n          1.6897032260894775,\n          9.012222290039062e-05,\n          0.0293424129486084\n        ],\n        \"semantic_type\": \"\",\n        \"description\": \"\"\n      }\n    },\n    {\n      \"column\": \"Gauss (s)\",\n      \"properties\": {\n        \"dtype\": \"number\",\n        \"std\": 0.00013163054509249977,\n        \"min\": 3.933906555175781e-05,\n        \"max\": 0.0004227161407470703,\n        \"num_unique_values\": 9,\n        \"samples\": [\n          0.0003495216369628906,\n          5.7697296142578125e-05,\n          0.0001723766326904297\n        ],\n        \"semantic_type\": \"\",\n        \"description\": \"\"\n      }\n    },\n    {\n      \"column\": \"Numpy (s)\",\n      \"properties\": {\n        \"dtype\": \"number\",\n        \"std\": 2.9013444798144716e-05,\n        \"min\": 3.9577484130859375e-05,\n        \"max\": 0.0001289844512939453,\n        \"num_unique_values\": 9,\n        \"samples\": [\n          6.413459777832031e-05,\n          3.9577484130859375e-05,\n          6.151199340820312e-05\n        ],\n        \"semantic_type\": \"\",\n        \"description\": \"\"\n      }\n    }\n  ]\n}"
            }
          },
          "metadata": {},
          "execution_count": 17
        }
      ]
    },
    {
      "cell_type": "markdown",
      "source": [
        "#Ejercicio 2\n",
        "\n",
        "En este ejercicio trabajaremos con el método de descenso de gradiente, el cual constituye otra herramienta crucial, en esta ocasión de la rama del cálculo, para el proceso de retropropagación asociado al entrenamiento de una red neuronal"
      ],
      "metadata": {
        "id": "bNalF5ypxg5j"
      }
    },
    {
      "cell_type": "markdown",
      "source": [
        "a) [1 punto] Progr´amese en Python el m´etodo de descenso de gradiente para funciones de\n",
        "n variables. La funci´on deber´a tener como par´ametros de entradas:\n",
        "\n",
        "- El gradiente de la funci´on que se desea minimizar ∇f (puede venir dada como otra\n",
        "funci´on previamente implementada, grad f, con entrada un vector, representando\n",
        "el punto donde se quiere calcular el gradiente, y salida otro vector, representando\n",
        "el gradiente de f en dicho punto).\n",
        "\n",
        "- Un valor inicial x0 ∈ R\n",
        "n\n",
        "(almacenado en un vector de n componentes).\n",
        "\n",
        "- El ratio de aprendizaje γ (que se asume constante para cada iteraci´on).\n",
        "\n",
        "- Un par´ametro de tolerancia tol (con el que finalizar el proceso cuando ∥∇f(x)∥2 <\n",
        "tol).\n",
        "- Un n´umero m´aximo de iteraciones maxit (con el fin de evitar ejecuciones indefinidas\n",
        "en caso de divergencia o convergencia muy lenta).\n",
        "\n",
        "\n",
        "La salida de la funci´on deber´a ser la aproximaci´on del x que cumple f\n",
        "′\n",
        "(x) ≈ 0, correspondiente a la ´ultima iteraci´on realizada en el m´etodo.\n"
      ],
      "metadata": {
        "id": "y11sD9FNEpD1"
      }
    },
    {
      "cell_type": "code",
      "source": [
        "import numpy as np\n",
        "\n",
        "# Función que implementa el método de descenso de gradiente\n",
        "def descenso_gradiente(grad_f, x0, gamma, tol, max_iter):\n",
        "    x = x0  # Inicialización\n",
        "    for i in range(int(max_iter)):\n",
        "        grad = grad_f(x)  # Calculamos el gradiente en el punto actual\n",
        "        #print(grad)\n",
        "        if np.linalg.norm(grad) < tol:\n",
        "          print(f\"Convergencia alcanzada en {i} iteraciones.\")\n",
        "          break  # Si el gradiente es muy pequeño, detenemos el algoritmo\n",
        "        x = x - gamma * grad  # Actualizamos el punto usando el gradiente\n",
        "    return x"
      ],
      "metadata": {
        "id": "iK9bxEZkxXeb"
      },
      "execution_count": 38,
      "outputs": []
    },
    {
      "cell_type": "markdown",
      "source": [
        "b) Sea la funci´on f : R → R dada por\n",
        "f(x) = 3x\n",
        "4 + 4x\n",
        "3 − 12x\n",
        "2 + 7.\n",
        "\n",
        "i [0.5 puntos] Aplica el m´etodo sobre f(x) con x0 = 3 γ = 0.001, tol=1e-12,\n",
        "maxit=1e5.\n",
        "\n",
        "ii [0.5 puntos] Aplica de nuevo el m´etodo sobre f(x) con x0 = 3, γ = 0.01,\n",
        "tol=1e-12, maxit=1e5.\n",
        "\n",
        "iii [0.5 puntos] Contrasta e interpreta los dos resultados obtenidos en los apartados\n",
        "anteriores y comp´aralos con los m´ınimos locales obtenidos anal´ıticamente. ¿Qu´e\n",
        "influencia puede llegar a tener la elecci´on del ratio de aprendizaje γ?\n",
        "\n",
        "iv [0.5 puntos] Aplica nuevamente el m´etodo sobre f(x) con x0 = 3, γ = 0.1,\n",
        "tol=1e-12, maxit=1e5. Interpreta el resultado.\n",
        "\n",
        "v [0.5 puntos] Finalmente, aplica el m´etodo sobre f(x) con x0 = 0, γ = 0.001,\n",
        "tol=1e-12, maxit=1e5. Interpreta el resultado y comp´aralo con el estudio anal´ıtico\n",
        "de f. ¿Se trata de un resultado deseable? ¿Por qu´e? ¿A qu´e se debe este fen´omeno?"
      ],
      "metadata": {
        "id": "0prZL1MncKfc"
      }
    },
    {
      "cell_type": "code",
      "source": [
        "def grad_f(x):\n",
        "    return 12 * x**3 + 12 * x**2 - 24 * x"
      ],
      "metadata": {
        "id": "Ra5Br98ZQlQb"
      },
      "execution_count": 39,
      "outputs": []
    },
    {
      "cell_type": "code",
      "source": [
        "descenso_gradiente(grad_f, 3, 0.001, 1e-12, 1e5)"
      ],
      "metadata": {
        "colab": {
          "base_uri": "https://localhost:8080/"
        },
        "id": "jgyYo4SXd0rF",
        "outputId": "a55831fd-a3f0-483a-9885-363ea0c0cf45"
      },
      "execution_count": 40,
      "outputs": [
        {
          "output_type": "stream",
          "name": "stdout",
          "text": [
            "Convergencia alcanzada en 831 iteraciones.\n"
          ]
        },
        {
          "output_type": "execute_result",
          "data": {
            "text/plain": [
              "1.0000000000000275"
            ]
          },
          "metadata": {},
          "execution_count": 40
        }
      ]
    },
    {
      "cell_type": "code",
      "source": [
        "descenso_gradiente(grad_f, 3, 0.01, 1e-12, 1e5)"
      ],
      "metadata": {
        "colab": {
          "base_uri": "https://localhost:8080/"
        },
        "id": "dmGt1RBteDl-",
        "outputId": "20d58958-8c8b-42a2-e340-b1cfb21a37cb"
      },
      "execution_count": 41,
      "outputs": [
        {
          "output_type": "stream",
          "name": "stdout",
          "text": [
            "Convergencia alcanzada en 31 iteraciones.\n"
          ]
        },
        {
          "output_type": "execute_result",
          "data": {
            "text/plain": [
              "-1.9999999999999882"
            ]
          },
          "metadata": {},
          "execution_count": 41
        }
      ]
    },
    {
      "cell_type": "markdown",
      "source": [
        "$$f(x) = 3x^4 + 4x^3 - 12x^2 + 7$$\n",
        "\n",
        "$f'(x) = 12x^3 + 12x^2 - 24x = 12x(x + 2)(x - 1)$\n",
        "\n",
        "$f''(x) = 36x^2 + 24x - 24$\n",
        "\n",
        "Tenemos mínimos en $x=-2$, $x=0$ y $x=1$ entonces:\n",
        "\n",
        "$f''(-2) = 72 > 0 $ entonces $x=-2$ es un mínimo local\n",
        "\n",
        "$f''(0) = -24 < 0 $ entonces $x=0$ es un mínimo local\n",
        "\n",
        "$f''(1) = 36 > 0 $ entonces $x=1$ es un mínimo local\n",
        "\n",
        "\n"
      ],
      "metadata": {
        "id": "zeMqx4oms3jl"
      }
    },
    {
      "cell_type": "markdown",
      "source": [
        "Obtenemos los puntos de silla tal que $f''(x) = 0$ entonces tenemos las siguientes soluciones:\n",
        "\n",
        "$x_1 \\approx 0.5486$\n",
        "\n",
        "$ x_2 \\approx -1.2153$\n",
        "\n",
        "Además,\n",
        "\n",
        "$f(-2) = -25$\n",
        "\n",
        "$f(0) = 7 $\n",
        "\n",
        "$f(1) = 2$"
      ],
      "metadata": {
        "id": "sj5A6P5TwB63"
      }
    },
    {
      "cell_type": "markdown",
      "source": [
        "Podemos notar la importancia de una adecuada elección del paso ($\\gamma$) para garantizar la convergencia del método. Esta función presenta dos mínimos locales, un máximo local y dos puntos de inflexión (puntos de silla). Estos últimos son especialmente relevantes, ya que pueden provocar que el algoritmo se desplace hacia un extremo y luego regrese hacia otro, dificultando una convergencia estable.\n",
        "\n",
        "Intuitivamente, si iniciamos el descenso desde el punto $x = 3$, esperaríamos que el algoritmo converja hacia el mínimo local en $x = 1$. Sin embargo, al usar un paso de $\\gamma = 0.01$, se observa que el método converge hacia un valor cercano a $x = -2$. Esto sugiere que el valor del paso provocó saltos entre distintas regiones de la función, afectando la dirección y destino de la convergencia."
      ],
      "metadata": {
        "id": "J6upGVdYyTyx"
      }
    },
    {
      "cell_type": "markdown",
      "source": [
        "Aún así, si deseamos obtener el valor $x=2$ que corresponde con un mínimo global $\\gamma = 0.01$ es la mejor elección.\n"
      ],
      "metadata": {
        "id": "ekXVqdw7z8NA"
      }
    },
    {
      "cell_type": "code",
      "source": [
        "descenso_gradiente(grad_f, 3, 0.1, 1e-12, 1e5)"
      ],
      "metadata": {
        "colab": {
          "base_uri": "https://localhost:8080/",
          "height": 235
        },
        "id": "MFutLrIJsjNm",
        "outputId": "e8a1ef78-90fd-4a92-a512-06ac38b7effe"
      },
      "execution_count": 42,
      "outputs": [
        {
          "output_type": "error",
          "ename": "OverflowError",
          "evalue": "(34, 'Numerical result out of range')",
          "traceback": [
            "\u001b[0;31m---------------------------------------------------------------------------\u001b[0m",
            "\u001b[0;31mOverflowError\u001b[0m                             Traceback (most recent call last)",
            "\u001b[0;32m/tmp/ipython-input-42-2434246130.py\u001b[0m in \u001b[0;36m<cell line: 0>\u001b[0;34m()\u001b[0m\n\u001b[0;32m----> 1\u001b[0;31m \u001b[0mdescenso_gradiente\u001b[0m\u001b[0;34m(\u001b[0m\u001b[0mgrad_f\u001b[0m\u001b[0;34m,\u001b[0m \u001b[0;36m3\u001b[0m\u001b[0;34m,\u001b[0m \u001b[0;36m0.1\u001b[0m\u001b[0;34m,\u001b[0m \u001b[0;36m1e-12\u001b[0m\u001b[0;34m,\u001b[0m \u001b[0;36m1e5\u001b[0m\u001b[0;34m)\u001b[0m\u001b[0;34m\u001b[0m\u001b[0;34m\u001b[0m\u001b[0m\n\u001b[0m",
            "\u001b[0;32m/tmp/ipython-input-38-3309498287.py\u001b[0m in \u001b[0;36mdescenso_gradiente\u001b[0;34m(grad_f, x0, gamma, tol, max_iter)\u001b[0m\n\u001b[1;32m      5\u001b[0m     \u001b[0mx\u001b[0m \u001b[0;34m=\u001b[0m \u001b[0mx0\u001b[0m  \u001b[0;31m# Inicialización\u001b[0m\u001b[0;34m\u001b[0m\u001b[0;34m\u001b[0m\u001b[0m\n\u001b[1;32m      6\u001b[0m     \u001b[0;32mfor\u001b[0m \u001b[0mi\u001b[0m \u001b[0;32min\u001b[0m \u001b[0mrange\u001b[0m\u001b[0;34m(\u001b[0m\u001b[0mint\u001b[0m\u001b[0;34m(\u001b[0m\u001b[0mmax_iter\u001b[0m\u001b[0;34m)\u001b[0m\u001b[0;34m)\u001b[0m\u001b[0;34m:\u001b[0m\u001b[0;34m\u001b[0m\u001b[0;34m\u001b[0m\u001b[0m\n\u001b[0;32m----> 7\u001b[0;31m         \u001b[0mgrad\u001b[0m \u001b[0;34m=\u001b[0m \u001b[0mgrad_f\u001b[0m\u001b[0;34m(\u001b[0m\u001b[0mx\u001b[0m\u001b[0;34m)\u001b[0m  \u001b[0;31m# Calculamos el gradiente en el punto actual\u001b[0m\u001b[0;34m\u001b[0m\u001b[0;34m\u001b[0m\u001b[0m\n\u001b[0m\u001b[1;32m      8\u001b[0m         \u001b[0;31m#print(grad)\u001b[0m\u001b[0;34m\u001b[0m\u001b[0;34m\u001b[0m\u001b[0m\n\u001b[1;32m      9\u001b[0m         \u001b[0;32mif\u001b[0m \u001b[0mnp\u001b[0m\u001b[0;34m.\u001b[0m\u001b[0mlinalg\u001b[0m\u001b[0;34m.\u001b[0m\u001b[0mnorm\u001b[0m\u001b[0;34m(\u001b[0m\u001b[0mgrad\u001b[0m\u001b[0;34m)\u001b[0m \u001b[0;34m<\u001b[0m \u001b[0mtol\u001b[0m\u001b[0;34m:\u001b[0m\u001b[0;34m\u001b[0m\u001b[0;34m\u001b[0m\u001b[0m\n",
            "\u001b[0;32m/tmp/ipython-input-39-2753715767.py\u001b[0m in \u001b[0;36mgrad_f\u001b[0;34m(x)\u001b[0m\n\u001b[1;32m      1\u001b[0m \u001b[0;32mdef\u001b[0m \u001b[0mgrad_f\u001b[0m\u001b[0;34m(\u001b[0m\u001b[0mx\u001b[0m\u001b[0;34m)\u001b[0m\u001b[0;34m:\u001b[0m\u001b[0;34m\u001b[0m\u001b[0;34m\u001b[0m\u001b[0m\n\u001b[0;32m----> 2\u001b[0;31m     \u001b[0;32mreturn\u001b[0m \u001b[0;36m12\u001b[0m \u001b[0;34m*\u001b[0m \u001b[0mx\u001b[0m\u001b[0;34m**\u001b[0m\u001b[0;36m3\u001b[0m \u001b[0;34m+\u001b[0m \u001b[0;36m12\u001b[0m \u001b[0;34m*\u001b[0m \u001b[0mx\u001b[0m\u001b[0;34m**\u001b[0m\u001b[0;36m2\u001b[0m \u001b[0;34m-\u001b[0m \u001b[0;36m24\u001b[0m \u001b[0;34m*\u001b[0m \u001b[0mx\u001b[0m\u001b[0;34m\u001b[0m\u001b[0;34m\u001b[0m\u001b[0m\n\u001b[0m",
            "\u001b[0;31mOverflowError\u001b[0m: (34, 'Numerical result out of range')"
          ]
        }
      ]
    },
    {
      "cell_type": "markdown",
      "source": [
        "Tomar este paso no permitió acercase a los puntos mínimos o máximos locales, se fue al infinito"
      ],
      "metadata": {
        "id": "5T6D9Z504ykJ"
      }
    },
    {
      "cell_type": "code",
      "source": [
        "descenso_gradiente(grad_f, 0, 0.001, 1e-12, 1e5)"
      ],
      "metadata": {
        "colab": {
          "base_uri": "https://localhost:8080/"
        },
        "id": "F505wKZk0nYN",
        "outputId": "2b07d2cd-1830-44a4-fba2-27a2dda987bf"
      },
      "execution_count": 43,
      "outputs": [
        {
          "output_type": "stream",
          "name": "stdout",
          "text": [
            "Convergencia alcanzada en 0 iteraciones.\n"
          ]
        },
        {
          "output_type": "execute_result",
          "data": {
            "text/plain": [
              "0"
            ]
          },
          "metadata": {},
          "execution_count": 43
        }
      ]
    },
    {
      "cell_type": "markdown",
      "source": [
        "En el último ejemplo al considerar el punto de partida igual al de un punto máximo local nos permite obtener un resultado en un solo paso. Si queremos obtener un valor mínimo local o global no podemos acercarnos.\n"
      ],
      "metadata": {
        "id": "dbq9LTK94mst"
      }
    },
    {
      "cell_type": "markdown",
      "source": [
        "# Ejercicio 3\n",
        " Sea la funci´on g : R\n",
        "2 → R dada por\n",
        "$g(x, y) = x^2 + y^3 + 3xy + 1.$\n",
        "\n",
        "i [0.5 puntos] Apl´ıquese el m´etodo sobre g(x, y) con x0 = (−1, 1), γ = 0.01,\n",
        "tol=1e-12, maxit=1e5.\n",
        "\n",
        "ii [0.5 puntos] ¿Qu´e ocurre si ahora partimos de x0 = (0, 0)? ¿Se obtiene un resultado\n",
        "deseable?\n",
        "\n",
        "iii [0.5 puntos] Real´ıcese el estudio anal´ıtico de la funci´on y util´ıcese para explicar y\n",
        "contrastar los resultados obtenidos en los dos apartados anteriores.\n"
      ],
      "metadata": {
        "id": "9l1TcVtz6QXL"
      }
    },
    {
      "cell_type": "code",
      "source": [
        "def g(v):\n",
        "    x, y = v[0], v[1]\n",
        "    return x**2+y**3+3*x*y+1\n",
        "def grad_g(v):\n",
        "    x, y = v[0], v[1]\n",
        "    dx = 2 * x + 3 * y\n",
        "    dy = 3 * y**2 + 3 * x\n",
        "    return np.array([dx, dy])"
      ],
      "metadata": {
        "id": "1Bvi_gVL0wWJ"
      },
      "execution_count": 47,
      "outputs": []
    },
    {
      "cell_type": "code",
      "source": [
        "descenso_gradiente(grad_g, [-1,1], 0.01, 1e-12, 1e5)"
      ],
      "metadata": {
        "colab": {
          "base_uri": "https://localhost:8080/"
        },
        "id": "yh0PWlfx62If",
        "outputId": "62e7d5c0-9538-4d80-cd62-94823690ead4"
      },
      "execution_count": 45,
      "outputs": [
        {
          "output_type": "stream",
          "name": "stdout",
          "text": [
            "Convergencia alcanzada en 3139 iteraciones.\n"
          ]
        },
        {
          "output_type": "execute_result",
          "data": {
            "text/plain": [
              "array([-2.25,  1.5 ])"
            ]
          },
          "metadata": {},
          "execution_count": 45
        }
      ]
    },
    {
      "cell_type": "code",
      "source": [
        "descenso_gradiente(grad_g, [0,0], 0.01, 1e-12, 1e5)"
      ],
      "metadata": {
        "colab": {
          "base_uri": "https://localhost:8080/"
        },
        "id": "KfH8_xye6-7W",
        "outputId": "bcea5832-0dae-4db7-e875-773edb2a2e3e"
      },
      "execution_count": 46,
      "outputs": [
        {
          "output_type": "stream",
          "name": "stdout",
          "text": [
            "Convergencia alcanzada en 0 iteraciones.\n"
          ]
        },
        {
          "output_type": "execute_result",
          "data": {
            "text/plain": [
              "[0, 0]"
            ]
          },
          "metadata": {},
          "execution_count": 46
        }
      ]
    },
    {
      "cell_type": "code",
      "source": [
        "g([-2.25,  1.5 ])"
      ],
      "metadata": {
        "colab": {
          "base_uri": "https://localhost:8080/"
        },
        "id": "oT1dh08U7V6s",
        "outputId": "bce6d206-861c-4748-9ee4-edd0c6c147e8"
      },
      "execution_count": 48,
      "outputs": [
        {
          "output_type": "execute_result",
          "data": {
            "text/plain": [
              "-0.6875"
            ]
          },
          "metadata": {},
          "execution_count": 48
        }
      ]
    },
    {
      "cell_type": "code",
      "source": [
        "g([0,0])"
      ],
      "metadata": {
        "colab": {
          "base_uri": "https://localhost:8080/"
        },
        "id": "hgdsI0TW92IV",
        "outputId": "6b0951bf-b48f-460d-e5bb-5f89b329051e"
      },
      "execution_count": 49,
      "outputs": [
        {
          "output_type": "execute_result",
          "data": {
            "text/plain": [
              "1"
            ]
          },
          "metadata": {},
          "execution_count": 49
        }
      ]
    },
    {
      "cell_type": "markdown",
      "source": [
        "El resultado obtenido con $x=(-1,1)$ es más deseable para obtener un mínimo."
      ],
      "metadata": {
        "id": "mR3y1hrt95W5"
      }
    },
    {
      "cell_type": "markdown",
      "source": [
        "$\\nabla g(x, y) = [2x + 3y,3y^2 + 3x]^T$\n",
        "\n",
        "\n",
        "Si $g(x,y) = 0$ obtenemos dos ecuaciones, entonces:\n",
        "\n",
        " $$2x+3y=0 → x = -\\dfrac{3}{2}y$$\n",
        "\n",
        "reemplazamos en la segunda ecuación:\n",
        "\n",
        "$$3y^2 + 3(-\\dfrac{3}{2}y) = 0 \\Rightarrow 3y^2 - \\dfrac{9}{2}y = 0\n",
        "\\Rightarrow y(3y - \\dfrac{9}{2}) = 0$$\n",
        "\n",
        "\n",
        "Entonces: $y = 0$ o $y = \\dfrac{3}{2}$\n",
        "\n",
        "- Si $y = 0$, entonces $x = 0$\n",
        "- Si $y = \\dfrac{3}{2}$, entonces $x = -\\dfrac{9}{4}$\n",
        "\n",
        "Ahora obtenemos la matriz Hessiana:\n",
        "\n",
        "$$H(x, y) =\n",
        "\\begin{bmatrix}\n",
        "\\frac{\\partial^2 g}{\\partial x^2} & \\frac{\\partial^2 g}{\\partial x \\partial y} \\\\\n",
        "\\frac{\\partial^2 g}{\\partial y \\partial x} & \\frac{\\partial^2 g}{\\partial y^2}\n",
        "\\end{bmatrix}\n",
        "=\n",
        "\\begin{bmatrix}\n",
        "2 & 3 \\\\\n",
        "3 & 6y\n",
        "\\end{bmatrix}$$\n",
        "\n",
        "\n",
        "$$H(0,0) = \\begin{bmatrix} 2 & 3 \\\\ 3 & 0 \\end{bmatrix}, \\quad \\det(H) = 2 \\cdot 0 - 3 \\cdot 3 = -9 < 0$$\n",
        "\n",
        "Entonces $x=(0,0)$ es un punto de silla\n",
        "\n",
        "Luego,\n",
        "\n",
        " $$H \\left(-\\frac{9}{4}, \\frac{3}{2}\\right)= \\begin{bmatrix} 2 & 3 \\\\ 3 & 9 \\end{bmatrix}, \\quad \\det(H) = 2 \\cdot 9 - 3 \\cdot 3 = 18 - 9 = 9 > 0$$\n",
        "\n",
        " Entonces es un mínimo local"
      ],
      "metadata": {
        "id": "Cv6l3eHg_lzv"
      }
    },
    {
      "cell_type": "markdown",
      "source": [
        "El algoritmo converge con (0,0), sin embargo, es un punto de silla."
      ],
      "metadata": {
        "id": "T7k4HLhcHfZ5"
      }
    },
    {
      "cell_type": "code",
      "source": [],
      "metadata": {
        "id": "z8X4cqKX9375"
      },
      "execution_count": null,
      "outputs": []
    }
  ]
}