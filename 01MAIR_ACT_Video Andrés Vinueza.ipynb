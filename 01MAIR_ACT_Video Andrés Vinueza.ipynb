{
 "cells": [
  {
   "cell_type": "markdown",
   "metadata": {},
   "source": [
    "\n",
    "## 01MIAR - Actividad Video Valencia Pollution\n",
    "\n",
    "## NumPy y Pandas\n",
    "\n",
    "### Objetivos:\n",
    "- Aplicar diferentes técnicas de tratamiento de estructuras numéricas con Numpy y datos estructurados con Pandas.\n",
    "\n",
    "### Instrucciones:\n",
    "- Mantener una estructura limpia, comentando código y secuenciando los apartados con el código correspondiente que resuelva la actividad.\n",
    "- Como criterio de evaluación se tendrá en cuenta el resultado, la consecución del mismo, estilo, comentarios y adecuación. Siempre será tenido en cuenta cualquier detalle técnico avanzado o no visto en clase relacionado con el tema (explicar el porqué y usabilidad).\n",
    "- No está permitido compartir los resultados ni el código en ninguno de los foros.\n",
    "- Revisar los temas así como las sesiones sobre Numpy y Pandas para aplicar dichos contenidos.\n",
    "- Proponer las respuestas en las celdas a dicho efecto en cada punto, si se necesitan más celdas añadirlas en su sitio correspondiente\n",
    "- Mostrar de manera clara la respuesta a las preguntas, mediante código\n",
    "\n",
    "### Entrega:\n",
    "- Este mismo notebook con las respuetas\n",
    "\n",
    "### Evaluación\n",
    "- Esta actividad corresponde con el 10% de la nota final de la asignatura.\n",
    "\n",
    "### Fecha Realización\n",
    "- Convocatoria 1 - 29/11/2024 00:00 - 29/11/2024 23:59"
   ]
  },
  {
   "cell_type": "markdown",
   "metadata": {},
   "source": [
    "#### Descripción\n",
    "El conjunto de datos \"valencia_pollution_dataset.csv\" (fichero disponible adjunto a la actividad) proviene de una descarga de datos del servicio web del ayuntamiento de la ciudad de Valencia de datos abiertos.\n",
    "\n",
    "Los datos recabados de este servicio web son de mediciones cada hora de una serie de estaciones de contaminación atmosférica.\n",
    "\n",
    "https://valencia.opendatasoft.com/explore/dataset/estacions-contaminacio-atmosferiques-estaciones-contaminacion-atmosfericas/information/\n",
    "\n",
    "Cada estación realiza una serie de mediciones acerca de la calidad del aire, y de ciertas sustancias que se consideran importantes para analizar la contaminación atmosférica en la ciudad.\n",
    "\n",
    "#### Columnas para trabajar:\n",
    "- objectid: id de la estación\n",
    "- nombre: nombre de la estación\n",
    "- dirección: dirección de la estación\n",
    "- tipozona: tipo de la zona, urbana o sub urbana\n",
    "- parámetros: parámetroe medidos\n",
    "- mediciones: fichero de mediciones\n",
    "- tipoemision: tráfico o fondo\n",
    "- so2: niveles de dióxido de azufre\n",
    "- no2: niveles de dióxido de nitrogeno\n",
    "- o3: niveles de ozono\n",
    "- co: niveles de monóxido de carbono\n",
    "- pm10: niveles de partículas en suspensión hasta 10um\n",
    "- pm25: niveles de partículas en suspensión hasta 2,5um\n",
    "- fecha_carga: timestamp de la actualización de los datos\n",
    "- calidad_ambiental: estimación de la calidad del aire\n",
    "- fiwareid: \n",
    "- geo_shape: coordenadas geográficas\n",
    "- geo_point_2d: latitud-longitud"
   ]
  },
  {
   "cell_type": "markdown",
   "metadata": {},
   "source": [
    "## Nombre:\n",
    "#### Andrés Vinueza"
   ]
  },
  {
   "cell_type": "code",
   "execution_count": 49,
   "metadata": {
    "tags": []
   },
   "outputs": [],
   "source": [
    "import pandas as pd\n",
    "import os\n",
    "# importar matplotlib\n",
    "import matplotlib.pyplot as plt"
   ]
  },
  {
   "cell_type": "markdown",
   "metadata": {},
   "source": [
    "## 01\n",
    "Carga de datos de csv (valencia_pollution_dataset.csv) en un DataFrame"
   ]
  },
  {
   "cell_type": "code",
   "execution_count": 3,
   "metadata": {},
   "outputs": [
    {
     "data": {
      "text/html": [
       "<div>\n",
       "<style scoped>\n",
       "    .dataframe tbody tr th:only-of-type {\n",
       "        vertical-align: middle;\n",
       "    }\n",
       "\n",
       "    .dataframe tbody tr th {\n",
       "        vertical-align: top;\n",
       "    }\n",
       "\n",
       "    .dataframe thead th {\n",
       "        text-align: right;\n",
       "    }\n",
       "</style>\n",
       "<table border=\"1\" class=\"dataframe\">\n",
       "  <thead>\n",
       "    <tr style=\"text-align: right;\">\n",
       "      <th></th>\n",
       "      <th>nombre</th>\n",
       "      <th>direccion</th>\n",
       "      <th>tipozona</th>\n",
       "      <th>parametros</th>\n",
       "      <th>mediciones</th>\n",
       "      <th>so2</th>\n",
       "      <th>no2</th>\n",
       "      <th>o3</th>\n",
       "      <th>co</th>\n",
       "      <th>pm10</th>\n",
       "      <th>pm25</th>\n",
       "      <th>tipoemision</th>\n",
       "      <th>fecha_carga</th>\n",
       "      <th>calidad_ambiental</th>\n",
       "      <th>fiwareid</th>\n",
       "      <th>geo_shape</th>\n",
       "      <th>geo_point_2d</th>\n",
       "    </tr>\n",
       "    <tr>\n",
       "      <th>objectid</th>\n",
       "      <th></th>\n",
       "      <th></th>\n",
       "      <th></th>\n",
       "      <th></th>\n",
       "      <th></th>\n",
       "      <th></th>\n",
       "      <th></th>\n",
       "      <th></th>\n",
       "      <th></th>\n",
       "      <th></th>\n",
       "      <th></th>\n",
       "      <th></th>\n",
       "      <th></th>\n",
       "      <th></th>\n",
       "      <th></th>\n",
       "      <th></th>\n",
       "      <th></th>\n",
       "    </tr>\n",
       "  </thead>\n",
       "  <tbody>\n",
       "    <tr>\n",
       "      <th>26</th>\n",
       "      <td>Pista de Silla</td>\n",
       "      <td>C/ Filipinas, s/n</td>\n",
       "      <td>Urbana</td>\n",
       "      <td>NaN</td>\n",
       "      <td>NaN</td>\n",
       "      <td>0.0</td>\n",
       "      <td>10</td>\n",
       "      <td>71.0</td>\n",
       "      <td>0.7</td>\n",
       "      <td>8.0</td>\n",
       "      <td>3.0</td>\n",
       "      <td>Tráfico</td>\n",
       "      <td>2025-05-24T20:20:06+00:00</td>\n",
       "      <td>Razonablemente Buena</td>\n",
       "      <td>NaN</td>\n",
       "      <td>NaN</td>\n",
       "      <td>NaN</td>\n",
       "    </tr>\n",
       "    <tr>\n",
       "      <th>28</th>\n",
       "      <td>Viveros</td>\n",
       "      <td>Jardines de Viveros</td>\n",
       "      <td>Urbana</td>\n",
       "      <td>NaN</td>\n",
       "      <td>NaN</td>\n",
       "      <td>0.0</td>\n",
       "      <td>5</td>\n",
       "      <td>88.0</td>\n",
       "      <td>NaN</td>\n",
       "      <td>NaN</td>\n",
       "      <td>NaN</td>\n",
       "      <td>Fondo</td>\n",
       "      <td>2025-05-24T20:20:08+00:00</td>\n",
       "      <td>Razonablemente Buena</td>\n",
       "      <td>NaN</td>\n",
       "      <td>NaN</td>\n",
       "      <td>NaN</td>\n",
       "    </tr>\n",
       "    <tr>\n",
       "      <th>431</th>\n",
       "      <td>Olivereta</td>\n",
       "      <td>Av. del Cid amb Av. de les Tres Creus</td>\n",
       "      <td>Urbana</td>\n",
       "      <td>NaN</td>\n",
       "      <td>NaN</td>\n",
       "      <td>NaN</td>\n",
       "      <td>24</td>\n",
       "      <td>NaN</td>\n",
       "      <td>NaN</td>\n",
       "      <td>20.0</td>\n",
       "      <td>11.0</td>\n",
       "      <td>Tráfico</td>\n",
       "      <td>2025-05-24T20:20:11+00:00</td>\n",
       "      <td>Razonablemente Buena</td>\n",
       "      <td>NaN</td>\n",
       "      <td>NaN</td>\n",
       "      <td>NaN</td>\n",
       "    </tr>\n",
       "    <tr>\n",
       "      <th>432</th>\n",
       "      <td>Patraix</td>\n",
       "      <td>Archiduque Carlos, 84ac</td>\n",
       "      <td>Urbana</td>\n",
       "      <td>NaN</td>\n",
       "      <td>NaN</td>\n",
       "      <td>NaN</td>\n",
       "      <td>15</td>\n",
       "      <td>NaN</td>\n",
       "      <td>NaN</td>\n",
       "      <td>20.0</td>\n",
       "      <td>11.0</td>\n",
       "      <td>Tráfico</td>\n",
       "      <td>2025-05-24T20:20:12+00:00</td>\n",
       "      <td>Razonablemente Buena</td>\n",
       "      <td>NaN</td>\n",
       "      <td>NaN</td>\n",
       "      <td>NaN</td>\n",
       "    </tr>\n",
       "    <tr>\n",
       "      <th>23</th>\n",
       "      <td>Francia</td>\n",
       "      <td>Avda. de Francia, 60</td>\n",
       "      <td>Urbana</td>\n",
       "      <td>NaN</td>\n",
       "      <td>NaN</td>\n",
       "      <td>1.0</td>\n",
       "      <td>3</td>\n",
       "      <td>82.0</td>\n",
       "      <td>0.1</td>\n",
       "      <td>9.0</td>\n",
       "      <td>6.0</td>\n",
       "      <td>Tráfico</td>\n",
       "      <td>2025-05-24T20:20:04+00:00</td>\n",
       "      <td>Razonablemente Buena</td>\n",
       "      <td>NaN</td>\n",
       "      <td>NaN</td>\n",
       "      <td>NaN</td>\n",
       "    </tr>\n",
       "    <tr>\n",
       "      <th>...</th>\n",
       "      <td>...</td>\n",
       "      <td>...</td>\n",
       "      <td>...</td>\n",
       "      <td>...</td>\n",
       "      <td>...</td>\n",
       "      <td>...</td>\n",
       "      <td>...</td>\n",
       "      <td>...</td>\n",
       "      <td>...</td>\n",
       "      <td>...</td>\n",
       "      <td>...</td>\n",
       "      <td>...</td>\n",
       "      <td>...</td>\n",
       "      <td>...</td>\n",
       "      <td>...</td>\n",
       "      <td>...</td>\n",
       "      <td>...</td>\n",
       "    </tr>\n",
       "    <tr>\n",
       "      <th>26</th>\n",
       "      <td>Pista de Silla</td>\n",
       "      <td>C/ Filipinas, s/n</td>\n",
       "      <td>Urbana</td>\n",
       "      <td>NaN</td>\n",
       "      <td>NaN</td>\n",
       "      <td>0.0</td>\n",
       "      <td>7</td>\n",
       "      <td>45.0</td>\n",
       "      <td>0.7</td>\n",
       "      <td>7.0</td>\n",
       "      <td>3.0</td>\n",
       "      <td>Tráfico</td>\n",
       "      <td>2025-05-26T10:20:07+00:00</td>\n",
       "      <td>Buena</td>\n",
       "      <td>NaN</td>\n",
       "      <td>NaN</td>\n",
       "      <td>NaN</td>\n",
       "    </tr>\n",
       "    <tr>\n",
       "      <th>22</th>\n",
       "      <td>Centro</td>\n",
       "      <td>Plaza Ayuntamiento</td>\n",
       "      <td>Urbana</td>\n",
       "      <td>NaN</td>\n",
       "      <td>NaN</td>\n",
       "      <td>NaN</td>\n",
       "      <td>11</td>\n",
       "      <td>NaN</td>\n",
       "      <td>NaN</td>\n",
       "      <td>15.0</td>\n",
       "      <td>8.0</td>\n",
       "      <td>Tráfico</td>\n",
       "      <td>2025-05-26T10:20:10+00:00</td>\n",
       "      <td>Buena</td>\n",
       "      <td>NaN</td>\n",
       "      <td>NaN</td>\n",
       "      <td>NaN</td>\n",
       "    </tr>\n",
       "    <tr>\n",
       "      <th>430</th>\n",
       "      <td>Dr. Lluch</td>\n",
       "      <td>Calle Dr. Lluch, 48</td>\n",
       "      <td>Urbana</td>\n",
       "      <td>NaN</td>\n",
       "      <td>NaN</td>\n",
       "      <td>NaN</td>\n",
       "      <td>6</td>\n",
       "      <td>NaN</td>\n",
       "      <td>NaN</td>\n",
       "      <td>24.0</td>\n",
       "      <td>10.0</td>\n",
       "      <td>Tráfico</td>\n",
       "      <td>2025-05-26T10:20:11+00:00</td>\n",
       "      <td>Razonablemente Buena</td>\n",
       "      <td>NaN</td>\n",
       "      <td>NaN</td>\n",
       "      <td>NaN</td>\n",
       "    </tr>\n",
       "    <tr>\n",
       "      <th>431</th>\n",
       "      <td>Olivereta</td>\n",
       "      <td>Av. del Cid amb Av. de les Tres Creus</td>\n",
       "      <td>Urbana</td>\n",
       "      <td>NaN</td>\n",
       "      <td>NaN</td>\n",
       "      <td>NaN</td>\n",
       "      <td>15</td>\n",
       "      <td>NaN</td>\n",
       "      <td>NaN</td>\n",
       "      <td>20.0</td>\n",
       "      <td>11.0</td>\n",
       "      <td>Tráfico</td>\n",
       "      <td>2025-05-26T10:20:12+00:00</td>\n",
       "      <td>Razonablemente Buena</td>\n",
       "      <td>NaN</td>\n",
       "      <td>NaN</td>\n",
       "      <td>NaN</td>\n",
       "    </tr>\n",
       "    <tr>\n",
       "      <th>25</th>\n",
       "      <td>Molí del Sol</td>\n",
       "      <td>Avda. Pío Baroja - Avda. General Avilés</td>\n",
       "      <td>Suburbana</td>\n",
       "      <td>NaN</td>\n",
       "      <td>NaN</td>\n",
       "      <td>3.0</td>\n",
       "      <td>5</td>\n",
       "      <td>36.0</td>\n",
       "      <td>0.3</td>\n",
       "      <td>7.0</td>\n",
       "      <td>6.0</td>\n",
       "      <td>Tráfico</td>\n",
       "      <td>2025-05-26T10:20:07+00:00</td>\n",
       "      <td>Buena</td>\n",
       "      <td>NaN</td>\n",
       "      <td>NaN</td>\n",
       "      <td>NaN</td>\n",
       "    </tr>\n",
       "  </tbody>\n",
       "</table>\n",
       "<p>396 rows × 17 columns</p>\n",
       "</div>"
      ],
      "text/plain": [
       "                  nombre                                direccion   tipozona  \\\n",
       "objectid                                                                       \n",
       "26        Pista de Silla                        C/ Filipinas, s/n     Urbana   \n",
       "28               Viveros                      Jardines de Viveros     Urbana   \n",
       "431            Olivereta    Av. del Cid amb Av. de les Tres Creus     Urbana   \n",
       "432              Patraix                  Archiduque Carlos, 84ac     Urbana   \n",
       "23               Francia                     Avda. de Francia, 60     Urbana   \n",
       "...                  ...                                      ...        ...   \n",
       "26        Pista de Silla                        C/ Filipinas, s/n     Urbana   \n",
       "22                Centro                       Plaza Ayuntamiento     Urbana   \n",
       "430            Dr. Lluch                      Calle Dr. Lluch, 48     Urbana   \n",
       "431            Olivereta    Av. del Cid amb Av. de les Tres Creus     Urbana   \n",
       "25          Molí del Sol  Avda. Pío Baroja - Avda. General Avilés  Suburbana   \n",
       "\n",
       "          parametros  mediciones  so2  no2    o3   co  pm10  pm25 tipoemision  \\\n",
       "objectid                                                                        \n",
       "26               NaN         NaN  0.0   10  71.0  0.7   8.0   3.0     Tráfico   \n",
       "28               NaN         NaN  0.0    5  88.0  NaN   NaN   NaN       Fondo   \n",
       "431              NaN         NaN  NaN   24   NaN  NaN  20.0  11.0     Tráfico   \n",
       "432              NaN         NaN  NaN   15   NaN  NaN  20.0  11.0     Tráfico   \n",
       "23               NaN         NaN  1.0    3  82.0  0.1   9.0   6.0     Tráfico   \n",
       "...              ...         ...  ...  ...   ...  ...   ...   ...         ...   \n",
       "26               NaN         NaN  0.0    7  45.0  0.7   7.0   3.0     Tráfico   \n",
       "22               NaN         NaN  NaN   11   NaN  NaN  15.0   8.0     Tráfico   \n",
       "430              NaN         NaN  NaN    6   NaN  NaN  24.0  10.0     Tráfico   \n",
       "431              NaN         NaN  NaN   15   NaN  NaN  20.0  11.0     Tráfico   \n",
       "25               NaN         NaN  3.0    5  36.0  0.3   7.0   6.0     Tráfico   \n",
       "\n",
       "                        fecha_carga     calidad_ambiental  fiwareid  \\\n",
       "objectid                                                              \n",
       "26        2025-05-24T20:20:06+00:00  Razonablemente Buena       NaN   \n",
       "28        2025-05-24T20:20:08+00:00  Razonablemente Buena       NaN   \n",
       "431       2025-05-24T20:20:11+00:00  Razonablemente Buena       NaN   \n",
       "432       2025-05-24T20:20:12+00:00  Razonablemente Buena       NaN   \n",
       "23        2025-05-24T20:20:04+00:00  Razonablemente Buena       NaN   \n",
       "...                             ...                   ...       ...   \n",
       "26        2025-05-26T10:20:07+00:00                 Buena       NaN   \n",
       "22        2025-05-26T10:20:10+00:00                 Buena       NaN   \n",
       "430       2025-05-26T10:20:11+00:00  Razonablemente Buena       NaN   \n",
       "431       2025-05-26T10:20:12+00:00  Razonablemente Buena       NaN   \n",
       "25        2025-05-26T10:20:07+00:00                 Buena       NaN   \n",
       "\n",
       "          geo_shape  geo_point_2d  \n",
       "objectid                           \n",
       "26              NaN           NaN  \n",
       "28              NaN           NaN  \n",
       "431             NaN           NaN  \n",
       "432             NaN           NaN  \n",
       "23              NaN           NaN  \n",
       "...             ...           ...  \n",
       "26              NaN           NaN  \n",
       "22              NaN           NaN  \n",
       "430             NaN           NaN  \n",
       "431             NaN           NaN  \n",
       "25              NaN           NaN  \n",
       "\n",
       "[396 rows x 17 columns]"
      ]
     },
     "metadata": {},
     "output_type": "display_data"
    }
   ],
   "source": [
    "ruta = os.path.join(\"valencia_pollution_dataset.csv\")\n",
    "datos = pd.read_csv(ruta, sep=',', index_col = 0)\n",
    "display(datos)"
   ]
  },
  {
   "cell_type": "code",
   "execution_count": 4,
   "metadata": {},
   "outputs": [
    {
     "data": {
      "text/plain": [
       "Index(['nombre', 'direccion', 'tipozona', 'parametros', 'mediciones', 'so2',\n",
       "       'no2', 'o3', 'co', 'pm10', 'pm25', 'tipoemision', 'fecha_carga',\n",
       "       'calidad_ambiental', 'fiwareid', 'geo_shape', 'geo_point_2d'],\n",
       "      dtype='object')"
      ]
     },
     "execution_count": 4,
     "metadata": {},
     "output_type": "execute_result"
    }
   ],
   "source": [
    "datos.columns"
   ]
  },
  {
   "cell_type": "code",
   "execution_count": 6,
   "metadata": {},
   "outputs": [
    {
     "data": {
      "text/plain": [
       "nombre                object\n",
       "direccion             object\n",
       "tipozona              object\n",
       "parametros           float64\n",
       "mediciones           float64\n",
       "so2                  float64\n",
       "no2                    int64\n",
       "o3                   float64\n",
       "co                   float64\n",
       "pm10                 float64\n",
       "pm25                 float64\n",
       "tipoemision           object\n",
       "fecha_carga           object\n",
       "calidad_ambiental     object\n",
       "fiwareid             float64\n",
       "geo_shape            float64\n",
       "geo_point_2d         float64\n",
       "dtype: object"
      ]
     },
     "execution_count": 6,
     "metadata": {},
     "output_type": "execute_result"
    }
   ],
   "source": [
    "datos.dtypes"
   ]
  },
  {
   "cell_type": "markdown",
   "metadata": {},
   "source": [
    "## 02\n",
    "- ¿Cuál es el rango temporal del dataset?\n",
    "- Obtención del número de estaciones que tienen un sensor para medir monóxido de carbono"
   ]
  },
  {
   "cell_type": "code",
   "execution_count": 9,
   "metadata": {},
   "outputs": [
    {
     "name": "stdout",
     "output_type": "stream",
     "text": [
      "Rango temporal entre 2025-05-24T20:20:04+00:00  y 2025-05-26T10:20:13+00:00\n"
     ]
    }
   ],
   "source": [
    "fecha_min = datos['fecha_carga'].min()\n",
    "fecha_max = datos['fecha_carga'].max()\n",
    "print(f\"Rango temporal entre {fecha_min}  y {fecha_max}\")"
   ]
  },
  {
   "cell_type": "code",
   "execution_count": 42,
   "metadata": {},
   "outputs": [
    {
     "name": "stdout",
     "output_type": "stream",
     "text": [
      "Número de estaciones con sensor para medir monóxido de carbono 3\n"
     ]
    }
   ],
   "source": [
    "numero_estaciones = len(set(datos.index[datos[\"co\"].notna()]))\n",
    "\n",
    "print(f\"Número de estaciones con sensor para medir monóxido de carbono {numero_estaciones}\")"
   ]
  },
  {
   "cell_type": "markdown",
   "metadata": {},
   "source": [
    "## 03\n",
    "\n",
    "- Número de estación con la media más alta de mediciones de monóxido de carbono"
   ]
  },
  {
   "cell_type": "code",
   "execution_count": 37,
   "metadata": {},
   "outputs": [
    {
     "data": {
      "text/plain": [
       "objectid\n",
       "26     0.7\n",
       "25     0.3\n",
       "23     0.1\n",
       "22     NaN\n",
       "24     NaN\n",
       "27     NaN\n",
       "28     NaN\n",
       "430    NaN\n",
       "431    NaN\n",
       "432    NaN\n",
       "829    NaN\n",
       "Name: co, dtype: float64"
      ]
     },
     "metadata": {},
     "output_type": "display_data"
    }
   ],
   "source": [
    "#Generamos el valor medio por index\n",
    "medias_co = datos.groupby(datos.index)['co'].mean()\n",
    "#ordenamos la tabla por el valor medio\n",
    "medias_co = medias_co.sort_values( ascending=False)\n",
    "\n",
    "display(medias_co)"
   ]
  },
  {
   "cell_type": "code",
   "execution_count": 43,
   "metadata": {},
   "outputs": [
    {
     "name": "stdout",
     "output_type": "stream",
     "text": [
      "Estación número: 26 tiene la media de co más alta\n"
     ]
    }
   ],
   "source": [
    "#obtenemos el primer index\n",
    "\n",
    "print(f\"Estación número: {medias_co.index[0]} tiene la media de co más alta\")"
   ]
  },
  {
   "cell_type": "markdown",
   "metadata": {},
   "source": [
    "## 04\n",
    "Realizar el histograma de dióxido de nitrógeno de la estación del punto anterior"
   ]
  },
  {
   "cell_type": "code",
   "execution_count": 47,
   "metadata": {},
   "outputs": [],
   "source": [
    "#FIltramos el index 26 y los datos no2 sin NAN\n",
    "datos_no2 = datos.loc[datos.index == 26, 'no2']\n",
    "datos_no2 = datos_no2[datos_no2.notna()]"
   ]
  },
  {
   "cell_type": "code",
   "execution_count": 58,
   "metadata": {},
   "outputs": [
    {
     "data": {
      "image/png": "[encoded data removed]",
      "text/plain": [
       "<Figure size 720x432 with 1 Axes>"
      ]
     },
     "metadata": {
      "needs_background": "light"
     },
     "output_type": "display_data"
    }
   ],
   "source": [
    "# Histogramas\n",
    "plt.figure(figsize=(10, 6))\n",
    "\n",
    "# Dibujar histograma con más detalle\n",
    "datos_no2.hist(bins=20, color='orange', edgecolor='black')\n",
    "\n",
    "# Título y etiquetas\n",
    "plt.title('Niveles de dióxido de nitrogeno', fontsize=16)\n",
    "\n",
    "# Rejilla y diseño más claro\n",
    "plt.grid(True, linestyle='--', alpha=0.7)\n",
    "plt.tight_layout()\n",
    "\n",
    "# Mostrar gráfico\n",
    "plt.show()"
   ]
  },
  {
   "cell_type": "markdown",
   "metadata": {},
   "source": [
    "## 05\n",
    "Realizar gráfica con  la línea temporal de las mediciones de ozono de la estación del punto anterior. Pista, la columna 'fecha_carga' habría que cambiarla de tipo."
   ]
  },
  {
   "cell_type": "code",
   "execution_count": 78,
   "metadata": {},
   "outputs": [],
   "source": [
    "#FIltramos el index 26 y los datos no2 sin NAN\n",
    "datos_o3 = datos.loc[datos.index == 26, ['fecha_carga','o3']]\n",
    "datos_o3 = datos_o3[datos_o3.notna()]\n",
    "datos_o3['fecha_carga'] = pd.to_datetime(datos_o3['fecha_carga'])"
   ]
  },
  {
   "cell_type": "code",
   "execution_count": 79,
   "metadata": {},
   "outputs": [],
   "source": [
    "eje_x= datos_o3.iloc(axis=1)[0]\n",
    "eje_y= datos_o3.iloc(axis=1)[1]"
   ]
  },
  {
   "cell_type": "code",
   "execution_count": 81,
   "metadata": {},
   "outputs": [
    {
     "data": {
      "image/png": "[encoded data removed]",
      "text/plain": [
       "<Figure size 1080x432 with 1 Axes>"
      ]
     },
     "metadata": {
      "needs_background": "light"
     },
     "output_type": "display_data"
    }
   ],
   "source": [
    "fig, axis = plt.subplots(1, 1, figsize=(15, 6))\n",
    "\n",
    "# Dibujar la línea\n",
    "axis.plot(eje_x, eje_y, marker='o')\n",
    "\n",
    "# Mostrar\n",
    "plt.tight_layout()\n",
    "plt.show()"
   ]
  },
  {
   "cell_type": "code",
   "execution_count": null,
   "metadata": {},
   "outputs": [],
   "source": []
  }
 ],
 "metadata": {
  "kernelspec": {
   "display_name": "Python 3",
   "language": "python",
   "name": "python3"
  },
  "language_info": {
   "codemirror_mode": {
    "name": "ipython",
    "version": 3
   },
   "file_extension": ".py",
   "mimetype": "text/x-python",
   "name": "python",
   "nbconvert_exporter": "python",
   "pygments_lexer": "ipython3",
   "version": "3.8.10"
  }
 },
 "nbformat": 4,
 "nbformat_minor": 4
}
